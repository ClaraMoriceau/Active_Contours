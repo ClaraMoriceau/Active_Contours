{
  "nbformat": 4,
  "nbformat_minor": 0,
  "metadata": {
    "colab": {
      "name": "machine_learning.ipynb",
      "version": "0.3.2",
      "provenance": [],
      "collapsed_sections": []
    },
    "kernelspec": {
      "name": "python3",
      "display_name": "Python 3"
    }
  },
  "cells": [
    {
      "metadata": {
        "id": "yI7wN8JQ22zg",
        "colab_type": "text"
      },
      "cell_type": "markdown",
      "source": [
        "# Active Contours"
      ]
    },
    {
      "metadata": {
        "id": "y7hhgrLS3EBw",
        "colab_type": "text"
      },
      "cell_type": "markdown",
      "source": [
        "## Active Contours using Parametric Curves"
      ]
    },
    {
      "metadata": {
        "id": "pjLH2x_l32eN",
        "colab_type": "code",
        "outputId": "0b0cae3d-da77-4a7e-9fb0-a463e41da864",
        "colab": {
          "base_uri": "https://localhost:8080/",
          "height": 376
        }
      },
      "cell_type": "code",
      "source": [
        "from __future__ import division\n",
        "from nt_toolbox.general import *\n",
        "from nt_toolbox.signal import *\n",
        "%pylab inline\n",
        "%matplotlib inline\n",
        "%load_ext autoreload\n"
      ],
      "execution_count": 8,
      "outputs": [
        {
          "output_type": "error",
          "ename": "ModuleNotFoundError",
          "evalue": "ignored",
          "traceback": [
            "\u001b[0;31m---------------------------------------------------------------------------\u001b[0m",
            "\u001b[0;31mModuleNotFoundError\u001b[0m                       Traceback (most recent call last)",
            "\u001b[0;32m<ipython-input-8-ae9775982a3f>\u001b[0m in \u001b[0;36m<module>\u001b[0;34m()\u001b[0m\n\u001b[1;32m      1\u001b[0m \u001b[0;32mfrom\u001b[0m \u001b[0m__future__\u001b[0m \u001b[0;32mimport\u001b[0m \u001b[0mdivision\u001b[0m\u001b[0;34m\u001b[0m\u001b[0;34m\u001b[0m\u001b[0m\n\u001b[0;32m----> 2\u001b[0;31m \u001b[0;32mfrom\u001b[0m \u001b[0mnt_toolbox\u001b[0m\u001b[0;34m.\u001b[0m\u001b[0mgeneral\u001b[0m \u001b[0;32mimport\u001b[0m \u001b[0;34m*\u001b[0m\u001b[0;34m\u001b[0m\u001b[0;34m\u001b[0m\u001b[0m\n\u001b[0m\u001b[1;32m      3\u001b[0m \u001b[0;32mfrom\u001b[0m \u001b[0mnt_toolbox\u001b[0m\u001b[0;34m.\u001b[0m\u001b[0msignal\u001b[0m \u001b[0;32mimport\u001b[0m \u001b[0;34m*\u001b[0m\u001b[0;34m\u001b[0m\u001b[0;34m\u001b[0m\u001b[0m\n\u001b[1;32m      4\u001b[0m \u001b[0mget_ipython\u001b[0m\u001b[0;34m(\u001b[0m\u001b[0;34m)\u001b[0m\u001b[0;34m.\u001b[0m\u001b[0mmagic\u001b[0m\u001b[0;34m(\u001b[0m\u001b[0;34m'pylab inline'\u001b[0m\u001b[0;34m)\u001b[0m\u001b[0;34m\u001b[0m\u001b[0;34m\u001b[0m\u001b[0m\n\u001b[1;32m      5\u001b[0m \u001b[0mget_ipython\u001b[0m\u001b[0;34m(\u001b[0m\u001b[0;34m)\u001b[0m\u001b[0;34m.\u001b[0m\u001b[0mmagic\u001b[0m\u001b[0;34m(\u001b[0m\u001b[0;34m'matplotlib inline'\u001b[0m\u001b[0;34m)\u001b[0m\u001b[0;34m\u001b[0m\u001b[0;34m\u001b[0m\u001b[0m\n",
            "\u001b[0;31mModuleNotFoundError\u001b[0m: No module named 'nt_toolbox'",
            "",
            "\u001b[0;31m---------------------------------------------------------------------------\u001b[0;32m\nNOTE: If your import is failing due to a missing package, you can\nmanually install dependencies using either !pip or !apt.\n\nTo view examples of installing some common dependencies, click the\n\"Open Examples\" button below.\n\u001b[0;31m---------------------------------------------------------------------------\u001b[0m\n"
          ]
        }
      ]
    },
    {
      "metadata": {
        "id": "Lexfp80H3-XA",
        "colab_type": "text"
      },
      "cell_type": "markdown",
      "source": [
        "#### Polygone initial"
      ]
    },
    {
      "metadata": {
        "id": "w_KKMvLv39WN",
        "colab_type": "code",
        "colab": {
          "base_uri": "https://localhost:8080/",
          "height": 187
        },
        "outputId": "2cca44b0-fc65-4f64-8f28-d0259bead8dd"
      },
      "cell_type": "code",
      "source": [
        "gamma0 = array([.78, .14, .42, .18, .32, .16, .75, .83, .57, .68, .46, .40, .72, .79, .91, .90]) + 1j*array([.87, .82, .75, .63, .34, .17, .08, .46, .50, .25, .27, .57, .73, .57, .75, .79])"
      ],
      "execution_count": 6,
      "outputs": [
        {
          "output_type": "error",
          "ename": "NameError",
          "evalue": "ignored",
          "traceback": [
            "\u001b[0;31m---------------------------------------------------------------------------\u001b[0m",
            "\u001b[0;31mNameError\u001b[0m                                 Traceback (most recent call last)",
            "\u001b[0;32m<ipython-input-6-df4cc4812ec9>\u001b[0m in \u001b[0;36m<module>\u001b[0;34m()\u001b[0m\n\u001b[0;32m----> 1\u001b[0;31m \u001b[0mgamma0\u001b[0m \u001b[0;34m=\u001b[0m \u001b[0marray\u001b[0m\u001b[0;34m(\u001b[0m\u001b[0;34m[\u001b[0m\u001b[0;36m.78\u001b[0m\u001b[0;34m,\u001b[0m \u001b[0;36m.14\u001b[0m\u001b[0;34m,\u001b[0m \u001b[0;36m.42\u001b[0m\u001b[0;34m,\u001b[0m \u001b[0;36m.18\u001b[0m\u001b[0;34m,\u001b[0m \u001b[0;36m.32\u001b[0m\u001b[0;34m,\u001b[0m \u001b[0;36m.16\u001b[0m\u001b[0;34m,\u001b[0m \u001b[0;36m.75\u001b[0m\u001b[0;34m,\u001b[0m \u001b[0;36m.83\u001b[0m\u001b[0;34m,\u001b[0m \u001b[0;36m.57\u001b[0m\u001b[0;34m,\u001b[0m \u001b[0;36m.68\u001b[0m\u001b[0;34m,\u001b[0m \u001b[0;36m.46\u001b[0m\u001b[0;34m,\u001b[0m \u001b[0;36m.40\u001b[0m\u001b[0;34m,\u001b[0m \u001b[0;36m.72\u001b[0m\u001b[0;34m,\u001b[0m \u001b[0;36m.79\u001b[0m\u001b[0;34m,\u001b[0m \u001b[0;36m.91\u001b[0m\u001b[0;34m,\u001b[0m \u001b[0;36m.90\u001b[0m\u001b[0;34m]\u001b[0m\u001b[0;34m)\u001b[0m \u001b[0;34m+\u001b[0m \u001b[0;36m1j\u001b[0m\u001b[0;34m*\u001b[0m\u001b[0marray\u001b[0m\u001b[0;34m(\u001b[0m\u001b[0;34m[\u001b[0m\u001b[0;36m.87\u001b[0m\u001b[0;34m,\u001b[0m \u001b[0;36m.82\u001b[0m\u001b[0;34m,\u001b[0m \u001b[0;36m.75\u001b[0m\u001b[0;34m,\u001b[0m \u001b[0;36m.63\u001b[0m\u001b[0;34m,\u001b[0m \u001b[0;36m.34\u001b[0m\u001b[0;34m,\u001b[0m \u001b[0;36m.17\u001b[0m\u001b[0;34m,\u001b[0m \u001b[0;36m.08\u001b[0m\u001b[0;34m,\u001b[0m \u001b[0;36m.46\u001b[0m\u001b[0;34m,\u001b[0m \u001b[0;36m.50\u001b[0m\u001b[0;34m,\u001b[0m \u001b[0;36m.25\u001b[0m\u001b[0;34m,\u001b[0m \u001b[0;36m.27\u001b[0m\u001b[0;34m,\u001b[0m \u001b[0;36m.57\u001b[0m\u001b[0;34m,\u001b[0m \u001b[0;36m.73\u001b[0m\u001b[0;34m,\u001b[0m \u001b[0;36m.57\u001b[0m\u001b[0;34m,\u001b[0m \u001b[0;36m.75\u001b[0m\u001b[0;34m,\u001b[0m \u001b[0;36m.79\u001b[0m\u001b[0;34m]\u001b[0m\u001b[0;34m)\u001b[0m\u001b[0;34m\u001b[0m\u001b[0;34m\u001b[0m\u001b[0m\n\u001b[0m",
            "\u001b[0;31mNameError\u001b[0m: name 'array' is not defined"
          ]
        }
      ]
    },
    {
      "metadata": {
        "id": "4710xraU4HBW",
        "colab_type": "text"
      },
      "cell_type": "markdown",
      "source": [
        "#### Visualisation courbe initiale"
      ]
    },
    {
      "metadata": {
        "id": "KmrJ7sQl4GXV",
        "colab_type": "code",
        "colab": {
          "base_uri": "https://localhost:8080/",
          "height": 202
        },
        "outputId": "9859e336-e092-4631-cb46-8f47fb543942"
      },
      "cell_type": "code",
      "source": [
        "periodize = lambda gamma: concatenate((gamma, [gamma[0]]))\n",
        "def cplot(gamma,s='b',lw=1): \n",
        "    plot(real(periodize(gamma)), imag(periodize(gamma)), s, linewidth=lw)\n",
        "    axis('equal')\n",
        "    axis('off')\n",
        "cplot(gamma0,'b.-');"
      ],
      "execution_count": 7,
      "outputs": [
        {
          "output_type": "error",
          "ename": "NameError",
          "evalue": "ignored",
          "traceback": [
            "\u001b[0;31m---------------------------------------------------------------------------\u001b[0m",
            "\u001b[0;31mNameError\u001b[0m                                 Traceback (most recent call last)",
            "\u001b[0;32m<ipython-input-7-0ac8d62bef7e>\u001b[0m in \u001b[0;36m<module>\u001b[0;34m()\u001b[0m\n\u001b[1;32m      4\u001b[0m     \u001b[0maxis\u001b[0m\u001b[0;34m(\u001b[0m\u001b[0;34m'equal'\u001b[0m\u001b[0;34m)\u001b[0m\u001b[0;34m\u001b[0m\u001b[0;34m\u001b[0m\u001b[0m\n\u001b[1;32m      5\u001b[0m     \u001b[0maxis\u001b[0m\u001b[0;34m(\u001b[0m\u001b[0;34m'off'\u001b[0m\u001b[0;34m)\u001b[0m\u001b[0;34m\u001b[0m\u001b[0;34m\u001b[0m\u001b[0m\n\u001b[0;32m----> 6\u001b[0;31m \u001b[0mcplot\u001b[0m\u001b[0;34m(\u001b[0m\u001b[0mgamma0\u001b[0m\u001b[0;34m,\u001b[0m\u001b[0;34m'b.-'\u001b[0m\u001b[0;34m)\u001b[0m\u001b[0;34m;\u001b[0m\u001b[0;34m\u001b[0m\u001b[0;34m\u001b[0m\u001b[0m\n\u001b[0m",
            "\u001b[0;31mNameError\u001b[0m: name 'gamma0' is not defined"
          ]
        }
      ]
    },
    {
      "metadata": {
        "id": "lP872WWD3FDy",
        "colab_type": "text"
      },
      "cell_type": "markdown",
      "source": [
        "## Active Contours using Level Sets\n"
      ]
    }
  ]
}